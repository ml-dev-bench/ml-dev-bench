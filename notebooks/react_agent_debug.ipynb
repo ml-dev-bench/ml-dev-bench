{
 "cells": [
  {
   "cell_type": "code",
   "execution_count": 1,
   "metadata": {},
   "outputs": [],
   "source": [
    "import os\n",
    "\n",
    "%load_ext autoreload\n",
    "%autoreload 2\n",
    "# setup local fork of composio\n",
    "\n",
    "from dotenv import load_dotenv  # noqa: E402\n",
    "\n",
    "# Load environment variables\n",
    "load_dotenv('../.env.runtime')\n",
    "\n",
    "# Get API key from environment variable\n",
    "COMPOSIO_API_KEY = os.getenv('COMPOSIO_API_KEY')\n",
    "OPENAI_API_KEY = os.getenv('OPENAI_API_KEY')\n",
    "\n",
    "if not COMPOSIO_API_KEY:\n",
    "    raise ValueError('COMPOSIO_API_KEY not found in environment variables')\n",
    "if not OPENAI_API_KEY:\n",
    "    raise ValueError('OPENAI_API_KEY not found in environment variables')"
   ]
  },
  {
   "cell_type": "code",
   "execution_count": 2,
   "metadata": {},
   "outputs": [],
   "source": [
    "import logging\n",
    "\n",
    "logging.basicConfig(level=logging.INFO)"
   ]
  },
  {
   "cell_type": "code",
   "execution_count": null,
   "metadata": {},
   "outputs": [],
   "source": [
    "import asyncio\n",
    "\n",
    "from agents.react_agent.simple_react import AgentConfig, SimpleReactAgent\n",
    "\n",
    "WORKSPACE_FOLDER = 'test_workspace'"
   ]
  },
  {
   "cell_type": "code",
   "execution_count": 4,
   "metadata": {},
   "outputs": [],
   "source": [
    "async def test_agent(\n",
    "    prompt: str,\n",
    "    agent_config: AgentConfig,\n",
    "):\n",
    "    agent = SimpleReactAgent(\n",
    "        config=agent_config,\n",
    "    )\n",
    "    # Define the task to list files\n",
    "    task = prompt\n",
    "\n",
    "    # Run the agent\n",
    "    try:\n",
    "        _ = await agent.run(\n",
    "            task,\n",
    "        )\n",
    "    except Exception as e:\n",
    "        print(f'An error occurred: {str(e)}')"
   ]
  },
  {
   "cell_type": "code",
   "execution_count": null,
   "metadata": {},
   "outputs": [],
   "source": [
    "try:\n",
    "    import nest_asyncio\n",
    "\n",
    "    nest_asyncio.apply()\n",
    "except ImportError:\n",
    "    print(\n",
    "        'For Jupyter/IPython environments, install nest_asyncio: pip install nest_asyncio'\n",
    "    )\n",
    "\n",
    "# Get the current event loop or create a new one\n",
    "try:\n",
    "    loop = asyncio.get_event_loop()\n",
    "except RuntimeError:\n",
    "    loop = asyncio.new_event_loop()\n",
    "    asyncio.set_event_loop(loop)\n",
    "\n",
    "PROMPT = \"'Write a python script to print hello world'\"\n",
    "model = 'gpt-4o-mini'\n",
    "# model = \"anthropic/claude-3-5-haiku-20241022\"\n",
    "# model = 'anthropic/claude-3-5-sonnet-20241022'\n",
    "# 0241022'\n",
    "# Run the test\n",
    "agent_config = AgentConfig(\n",
    "    id='simple_react',\n",
    "    model_name=model,\n",
    "    workspace_dir=WORKSPACE_FOLDER,\n",
    "    config={\n",
    "        'recursion_limit': 25,\n",
    "    },\n",
    ")\n",
    "\n",
    "loop.run_until_complete(test_agent(PROMPT, agent_config))"
   ]
  },
  {
   "cell_type": "code",
   "execution_count": null,
   "metadata": {},
   "outputs": [],
   "source": []
  }
 ],
 "metadata": {
  "kernelspec": {
   "display_name": "ml-dev-bench-1E84Zdg3-py3.12",
   "language": "python",
   "name": "python3"
  },
  "language_info": {
   "codemirror_mode": {
    "name": "ipython",
    "version": 3
   },
   "file_extension": ".py",
   "mimetype": "text/x-python",
   "name": "python",
   "nbconvert_exporter": "python",
   "pygments_lexer": "ipython3",
   "version": "3.12.7"
  }
 },
 "nbformat": 4,
 "nbformat_minor": 2
}
